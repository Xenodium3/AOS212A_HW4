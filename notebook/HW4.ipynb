{
 "cells": [
  {
   "cell_type": "markdown",
   "id": "d3af013e",
   "metadata": {},
   "source": [
    "Mise en place"
   ]
  },
  {
   "cell_type": "code",
   "execution_count": null,
   "id": "16a3a071",
   "metadata": {},
   "outputs": [],
   "source": [
    "using Pkg\n",
    "Pkg.activate(\"C:/Users/frank/Desktop/AOS212A/HW4/AOS212A_HW4\") # Environment"
   ]
  },
  {
   "cell_type": "code",
   "execution_count": null,
   "id": "77bd08e8",
   "metadata": {},
   "outputs": [],
   "source": [
    "# Packages\n",
    "using Revise\n",
    "using Profile\n",
    "using ProgressMeter\n",
    "#using Plots\n",
    "using PyPlot, CurveFit, Printf\n",
    "using SparseArrays, LinearAlgebra, IterativeSolvers "
   ]
  },
  {
   "cell_type": "code",
   "execution_count": null,
   "id": "1f7f9a00",
   "metadata": {},
   "outputs": [],
   "source": [
    "using HW4"
   ]
  }
 ],
 "metadata": {
  "kernelspec": {
   "display_name": "Julia 1.7.1",
   "language": "julia",
   "name": "julia-1.7"
  },
  "language_info": {
   "file_extension": ".jl",
   "mimetype": "application/julia",
   "name": "julia",
   "version": "1.7.1"
  }
 },
 "nbformat": 4,
 "nbformat_minor": 5
}
